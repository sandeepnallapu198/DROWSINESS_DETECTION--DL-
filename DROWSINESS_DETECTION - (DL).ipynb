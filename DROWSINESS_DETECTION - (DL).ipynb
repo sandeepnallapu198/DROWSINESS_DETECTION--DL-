{
 "cells": [
  {
   "cell_type": "code",
   "execution_count": 8,
   "id": "4218f453",
   "metadata": {},
   "outputs": [],
   "source": [
    "from scipy.spatial import distance as dist\n",
    "from imutils import face_utils\n",
    "import imutils\n",
    "import cv2\n",
    "import winsound\n",
    "import dlib"
   ]
  },
  {
   "cell_type": "code",
   "execution_count": null,
   "id": "02b6ff7a",
   "metadata": {},
   "outputs": [],
   "source": [
    "frequency=2500\n",
    "duration=1000\n",
    "count=0\n",
    "\n",
    "earThresh=0.3\n",
    "earFrames=48\n",
    "\n",
    "shapePredector=\"C:\\\\AI(ml&dl)\\\\DATASETS\\\\drowsiness_set\\code\\\\shape_predictor_68_face_landmarks.dat\"\n",
    "\n",
    "detector=dlib.get_frontal_face_detector()\n",
    "predictor=dlib.shape_predictor(shapePredector)\n",
    "\n",
    "def eyeAspectRatio(eye):\n",
    "    A = dist.euclidean(eye[1], eye[5])\n",
    "    B = dist.euclidean(eye[2], eye[4])\n",
    "    C = dist.euclidean(eye[0], eye[3])\n",
    "    ear= (A+B)/ (2.0 * C)\n",
    "    return ear\n",
    "\n",
    "(lStart,lEnd)=face_utils.FACIAL_LANDMARKS_IDXS['left_eye']\n",
    "(rStart,rEnd)=face_utils.FACIAL_LANDMARKS_IDXS['right_eye']\n",
    "\n",
    "cam=cv2.VideoCapture(0)\n",
    "\n",
    "while True:\n",
    "    _,frame=cam.read()\n",
    "    frame=imutils.resize(frame,width=450)\n",
    "    gray=cv2.cvtColor(frame,cv2.COLOR_BGR2GRAY)\n",
    "    \n",
    "    rects=detector(gray,0)\n",
    "    \n",
    "    for rect in rects:\n",
    "        shape=predictor(gray,rect)\n",
    "        shape=face_utils.shape_to_np(shape)\n",
    "        \n",
    "        leftEye = shape[lStart:lEnd]\n",
    "        rightEye = shape[rStart:rEnd]\n",
    "        leftEAR = eyeAspectRatio(leftEye)\n",
    "        rightEAR = eyeAspectRatio(rightEye)\n",
    "        \n",
    "        ear = (leftEAR + rightEAR) / 2.0\n",
    "        \n",
    "        leftEyeHull = cv2.convexHull(leftEye)\n",
    "        rightEyeHull = cv2.convexHull(rightEye)\n",
    "        cv2.drawContours(frame,[leftEyeHull],-1,(0,0,255),1)\n",
    "        cv2.drawContours(frame,[rightEyeHull],-1,(0,0,255),1)\n",
    "        \n",
    "        if ear < earThresh:\n",
    "            count+=1\n",
    "            \n",
    "            if count >= earFrames:\n",
    "                cv2.putText(frame,'DROWSINESS DETECTED',(10,30),\n",
    "                           cv2.FONT_HERSHEY_SIMPLEX,0.7,(0,0,255),2)\n",
    "                winsound.Beep(frequency,duration)\n",
    "        else:\n",
    "            count = 0\n",
    "                \n",
    "    cv2.imshow('Frame', frame)\n",
    "    if cv2.waitKey(1) &0xFF == ord('q'):\n",
    "        break\n",
    "cam.release()\n",
    "cv2.destroyALLWindows()"
   ]
  },
  {
   "cell_type": "code",
   "execution_count": null,
   "id": "85a85c69",
   "metadata": {},
   "outputs": [],
   "source": []
  }
 ],
 "metadata": {
  "kernelspec": {
   "display_name": "Python 3 (ipykernel)",
   "language": "python",
   "name": "python3"
  },
  "language_info": {
   "codemirror_mode": {
    "name": "ipython",
    "version": 3
   },
   "file_extension": ".py",
   "mimetype": "text/x-python",
   "name": "python",
   "nbconvert_exporter": "python",
   "pygments_lexer": "ipython3",
   "version": "3.9.13"
  }
 },
 "nbformat": 4,
 "nbformat_minor": 5
}
